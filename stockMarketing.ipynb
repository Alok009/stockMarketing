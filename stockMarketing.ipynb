{
 "cells": [
  {
   "cell_type": "code",
   "execution_count": 1,
   "metadata": {},
   "outputs": [
    {
     "name": "stdout",
     "output_type": "stream",
     "text": [
      "3.6.5 |Anaconda, Inc.| (default, Mar 29 2018, 13:32:41) [MSC v.1900 64 bit (AMD64)]\n"
     ]
    }
   ],
   "source": [
    "import sys\n",
    "print(sys.version)"
   ]
  },
  {
   "cell_type": "code",
   "execution_count": 15,
   "metadata": {},
   "outputs": [
    {
     "name": "stdout",
     "output_type": "stream",
     "text": [
      "1.14.3\n",
      "0.23.0\n"
     ]
    }
   ],
   "source": [
    "\n",
    "from pandas_datareader import data\n",
    "from matplotlib import pyplot as plt\n",
    "import pandas as pd\n",
    "import datetime\n",
    "import numpy as np\n",
    "\n",
    "\n",
    "print(np.__version__)\n",
    "print(pd.__version__)"
   ]
  },
  {
   "cell_type": "code",
   "execution_count": 16,
   "metadata": {},
   "outputs": [
    {
     "name": "stdout",
     "output_type": "stream",
     "text": [
      "[('Apple', 'AAPL'), ('Amazon', 'AMZN'), ('American Express', 'AXP'), ('Boeing', 'BA'), ('Bank of America', 'BAC'), ('Chevron', 'CVX'), ('Ford', 'F'), ('General Electronics', 'GE'), ('Honda', 'HMC'), ('IBM', 'IBM'), ('Intel', 'INTC'), ('Johnson Johnson', 'JNJ'), ('Coca Cola', 'KO'), ('Lockhead Martin', 'LMT'), ('Mastercard', 'MA'), ('MacDonalds', 'MCD'), ('Mstubishi', 'MSBHY'), ('Microsoft', 'MSFT'), ('Navistar', 'NAV'), ('Northrop Grumman', 'NOC'), ('Pepsi', 'PEP'), ('Sony', 'SNE'), ('Symantec', 'SYMC'), ('Toyota', 'TM'), ('Texas Instruments', 'TXN'), ('Valero Energy', 'VLO'), ('Walgreen', 'WBA'), ('Exxon', 'XOM')]\n"
     ]
    }
   ],
   "source": [
    "#intruments to download\n",
    "companies_dict = {\n",
    "    'Amazon':'AMZN',\n",
    "    'Apple':'AAPL',\n",
    "    'Walgreen':'WBA',\n",
    "    'Northrop Grumman':'NOC',\n",
    "    'Boeing': 'BA',\n",
    "    'Lockhead Martin':'LMT',\n",
    "    'MacDonalds': 'MCD',\n",
    "    'Intel': 'INTC',\n",
    "    'Navistar':'NAV',\n",
    "    'IBM':'IBM',\n",
    "    'Texas Instruments':'TXN',\n",
    "    'Mastercard':'MA',\n",
    "    'Microsoft':'MSFT',\n",
    "    'General Electronics':'GE',\n",
    "    'Symantec':'SYMC',\n",
    "    'American Express':'AXP',\n",
    "    'Pepsi':'PEP',\n",
    "    'Coca Cola':'KO',\n",
    "    'Johnson Johnson':'JNJ',\n",
    "    'Toyota':'TM',\n",
    "    'Honda':'HMC',\n",
    "    'Mstubishi':'MSBHY',\n",
    "    'Sony':'SNE',\n",
    "    'Exxon':'XOM',\n",
    "    'Chevron':'CVX',\n",
    "    'Valero Energy':'VLO',\n",
    "    'Ford':'F',           \n",
    "    'Bank of America':'BAC'\n",
    "}\n",
    "companies = sorted(companies_dict.items(),key=lambda x: x[1])\n",
    "print(companies)"
   ]
  },
  {
   "cell_type": "code",
   "execution_count": null,
   "metadata": {
    "scrolled": false
   },
   "outputs": [],
   "source": [
    "#online source to use\n",
    "data_source = 'yahoo'\n",
    "#start and the end date\n",
    "start_date = '2016-06-02'\n",
    "end_date = '2018-06-02'\n",
    "\n",
    "#pandas reader to load stack data\n",
    "panel_data = data.DataReader(list(companies_dict.values()),data_source,start_date,end_date)\n",
    "print(panel_data.axes)"
   ]
  },
  {
   "cell_type": "code",
   "execution_count": 46,
   "metadata": {},
   "outputs": [
    {
     "name": "stdout",
     "output_type": "stream",
     "text": [
      "Symbols\n",
      "AAPL     110.379997\n",
      "AMZN     310.350006\n",
      "AXP       93.040001\n",
      "BA       129.979996\n",
      "BAC       17.889999\n",
      "CVX      112.180000\n",
      "F         15.500000\n",
      "GE        25.270000\n",
      "HMC       29.520000\n",
      "IBM      160.440002\n",
      "INTC      36.290001\n",
      "JNJ      104.570000\n",
      "KO        42.220001\n",
      "LMT      192.570007\n",
      "MA        86.160004\n",
      "MCD       93.699997\n",
      "MSBHY     36.759998\n",
      "MSFT      46.450001\n",
      "NAV       33.480000\n",
      "NOC      147.389999\n",
      "PEP       94.559998\n",
      "SNE       20.469999\n",
      "SYMC      25.660000\n",
      "TM       125.480003\n",
      "TXN       53.470001\n",
      "VLO       49.500000\n",
      "WBA       76.199997\n",
      "XOM       92.449997\n",
      "Name: 2014-12-31 00:00:00, dtype: float64\n"
     ]
    }
   ],
   "source": [
    "#stock open and close data values\n",
    "stock_close = panel_data['Close']\n",
    "stock_open  = panel_data['Open']\n",
    "\n",
    "print(stock_close.iloc[0])"
   ]
  },
  {
   "cell_type": "code",
   "execution_count": null,
   "metadata": {},
   "outputs": [],
   "source": []
  },
  {
   "cell_type": "code",
   "execution_count": null,
   "metadata": {},
   "outputs": [],
   "source": []
  }
 ],
 "metadata": {
  "kernelspec": {
   "display_name": "Python 3",
   "language": "python",
   "name": "python3"
  },
  "language_info": {
   "codemirror_mode": {
    "name": "ipython",
    "version": 3
   },
   "file_extension": ".py",
   "mimetype": "text/x-python",
   "name": "python",
   "nbconvert_exporter": "python",
   "pygments_lexer": "ipython3",
   "version": "3.6.5"
  }
 },
 "nbformat": 4,
 "nbformat_minor": 2
}
